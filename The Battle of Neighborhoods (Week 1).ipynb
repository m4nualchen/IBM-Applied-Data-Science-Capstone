{
 "cells": [
  {
   "cell_type": "markdown",
   "metadata": {},
   "source": [
    "# The Battle of Neighborhoods (Week 1)\n",
    "### Applied Data Science Capstone by IBM/Coursera"
   ]
  },
  {
   "cell_type": "markdown",
   "metadata": {},
   "source": [
    "## Table of Contents\n",
    "* [Introduction: Business Problem](#introduction)\n",
    "* [Data](#data)"
   ]
  },
  {
   "cell_type": "markdown",
   "metadata": {},
   "source": [
    "## Introduction: Business Problem <a name=\"introduction\"></a>"
   ]
  },
  {
   "cell_type": "markdown",
   "metadata": {},
   "source": [
    "Entered in 1990s, bubble tea has become a popular drink in the United States, especially in the areas where boast a high percentage of Asians, such as the Los Angeles areas. As the growing preference towards bubble tea, we expect more bubble tea shops to be opened in the future. Selecting an optimal location for opening a bubble tea shop can largely determine the success of business. In this project, we will aim at finding the optimal place where will have more potential customers and less competition. Our target audience would be stakeholders who are interested in starting the bubble tea business in Los Angeles to have stable customer source without competing with existing bubble tea shops too much.\n",
    "\n",
    "To find the most suitable place for a bubble tea shop, we mainly consider three conditions. Fist, since many Asians prefer drinking a cup of bubble tea after their meals, we will try to identify them as one of our target customers and find locations with a considerable number of Asian restaurants. Second, we prefer to open the bubble tea shop in the areas with no coffee shops and bubble tea shops in vicinity and avoid industry competition. Third, we are also inclined to serve the neighborhoods in Los Angeles County with lots of Asian residents. \n"
   ]
  },
  {
   "cell_type": "markdown",
   "metadata": {},
   "source": [
    "## Data <a name=\"data\"></a>"
   ]
  },
  {
   "cell_type": "markdown",
   "metadata": {},
   "source": [
    "Based on conditions that will affect our business, our strategy to select the shop location will basically depend on these data:\n",
    "\n",
    "* Number of existing Asian restaurants in each neighborhood\n",
    "* Number of existing coffee shops and bubble tea shops in each neighborhood\n",
    "* Distance to nearby Asian neighborhoods\n",
    "\n",
    "To acquire these needed data, we will first use Google Map API geocoding to obtain the coordinate of Los Angeles. Next, we will implement Foursquare API to get the information of restaurants in each neighborhood and count the number of Asian restaurants. At the same time, the Foursquare API will also contribute to the data collection of number of coffee shops and bubble tea shops. Finally, common candidate areas will be visualized through the folium library, and the shortest distance from a candidate area to the well-known Asian neighborhoods will be identified intuitionally. \n"
   ]
  }
 ],
 "metadata": {
  "kernelspec": {
   "display_name": "Python 3",
   "language": "python",
   "name": "python3"
  },
  "language_info": {
   "codemirror_mode": {
    "name": "ipython",
    "version": 3
   },
   "file_extension": ".py",
   "mimetype": "text/x-python",
   "name": "python",
   "nbconvert_exporter": "python",
   "pygments_lexer": "ipython3",
   "version": "3.7.6"
  }
 },
 "nbformat": 4,
 "nbformat_minor": 4
}
